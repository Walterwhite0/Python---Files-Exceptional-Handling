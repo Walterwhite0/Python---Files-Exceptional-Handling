{
  "nbformat": 4,
  "nbformat_minor": 0,
  "metadata": {
    "colab": {
      "provenance": []
    },
    "kernelspec": {
      "name": "python3",
      "display_name": "Python 3"
    },
    "language_info": {
      "name": "python"
    }
  },
  "cells": [
    {
      "cell_type": "markdown",
      "source": [
        "# Files & Exceptional Handling\n",
        "\n",
        "1. What is the difference between interpreted and compiled languages?\n",
        " - Difference between interpreted and compiled languages: Interpreted languages execute code line by line using an interpreter, making them easier to debug but slower in execution. Compiled languages convert the entire code into machine language before execution using a compiler, which makes them faster but less flexible during development.\n",
        "\n",
        "2. What is exception handling in Python?\n",
        " - Exception handling in Python: Exception handling in Python allows a program to handle errors gracefully during runtime. It uses try-except blocks to catch and respond to exceptions, preventing the program from crashing unexpectedly.\n",
        "\n",
        "3. What is the purpose of the finally block in exception handling?\n",
        " - Purpose of the finally block: The finally block in Python is used to define code that should always be executed after the try-except blocks, regardless of whether an exception occurred. It’s commonly used for clean-up operations like closing files or releasing resources.\n",
        "\n",
        "4. What is logging in Python?\n",
        " - Logging in Python: Logging in Python refers to tracking events that happen during a program’s execution. The logging module allows developers to record messages with different severity levels, making debugging and monitoring easier.\n",
        "\n",
        "5. What is the significance of the __del__ method in Python?\n",
        " - Significance of the del method: The __del__ method is a special method in Python that is called when an object is about to be destroyed. It allows you to define clean-up tasks that should run when the object is deleted from memory.\n",
        "\n",
        "6. What is the difference between import and from ... import in Python?\n",
        " - Difference between import and from ... import: The import statement brings in the entire module, requiring you to use the module name as a prefix to access its functions. The from ... import statement imports specific attributes or functions from a module, allowing direct access without the module name.\n",
        "\n",
        "7. How can you handle multiple exceptions in Python?\n",
        " - Handling multiple exceptions in Python: Python allows handling multiple exceptions using multiple except blocks or by grouping exceptions in a tuple. This makes it easier to manage various error conditions separately or collectively.\n",
        "\n",
        "8. What is the purpose of the with statement when handling files in Python?\n",
        " - Purpose of the with statement: The with statement in Python is used for resource management, especially with file handling. It ensures that resources like files are properly closed after their operations are completed, even if exceptions occur.\n",
        "\n",
        "9. What is the difference between multithreading and multiprocessing?\n",
        " - Difference between multithreading and multiprocessing: Multithreading runs multiple threads within a single process, sharing memory, and is useful for I/O-bound tasks. Multiprocessing creates separate processes with individual memory spaces and is better for CPU-bound tasks.\n",
        "\n",
        "10. What are the advantages of using logging in a program?\n",
        " - Advantages of logging: Logging helps track the flow of a program and capture useful runtime information, including errors and warnings. It supports various levels of logging and can be directed to files or consoles, aiding in debugging and maintaining code.\n",
        "\n",
        "11. What is memory management in Python?\n",
        " - Memory management in Python: Python handles memory management automatically using reference counting and a garbage collector to clean up unused objects. It also provides memory pooling to optimize performance and resource usage.\n",
        "\n",
        "12. What are the basic steps involved in exception handling in Python?\n",
        " - Basic steps in exception handling: The basic steps include writing a try block to execute code that might cause an error, except blocks to catch and handle the error, else block to run code if no error occurs, and finally block for clean-up actions.\n",
        "\n",
        "13. Why is memory management important in Python0?\n",
        " - Importance of memory management: Memory management is crucial to ensure efficient use of system resources and to prevent memory leaks. Proper memory handling improves performance and ensures the stability of long-running applications.\n",
        "\n",
        "14. What is the role of try and except in exception handling?\n",
        " - Role of try and except: The try block is used to wrap code that may raise an exception, and the except block catches and handles those exceptions to avoid program crashes, allowing the program to recover or log the issue.\n",
        "\n",
        "15. How does Python's garbage collection system work?\n",
        " - Python's garbage collection: Python's garbage collection system automatically reclaims memory occupied by objects that are no longer in use. It uses reference counting as the primary method and includes a cyclic garbage collector to handle reference cycles.\n",
        "\n",
        "16. What is the purpose of the else block in exception handling?\n",
        " - Purpose of the else block in exception handling: The else block runs if the try block doesn’t raise an exception. It’s used for code that should execute only when no error occurs, keeping the error-handling and normal logic separate.\n",
        "\n",
        "17. What are the common logging levels in Python?\n",
        " - Common logging levels: Python logging supports several levels: DEBUG, INFO, WARNING, ERROR, and CRITICAL. These levels indicate the severity of events and help developers filter messages based on importance.\n",
        "\n",
        "18. What is the difference between os.fork() and multiprocessing in Python?\n",
        " - Difference between os.fork() and multiprocessing: os.fork() is a low-level Unix-based system call that duplicates the current process. The multiprocessing module is platform-independent and provides a higher-level API to manage separate processes easily.\n",
        "\n",
        "19. What is the importance of closing a file in Python?\n",
        " - Importance of closing a file: Closing a file releases the system resources associated with it. If a file is not closed properly, it may lead to data loss or corruption, especially if changes are not flushed from the buffer to the disk.\n",
        "\n",
        "20. What is the difference between file.read() and file.readline() in Python?\n",
        " - Difference between file.read() and file.readline(): file.read() reads the entire contents of a file into a single string, while file.readline() reads just one line at a time, making it more memory-efficient for large files.\n",
        "\n",
        "21. What is the logging module in Python used for?\n",
        " - Purpose of the logging module: The logging module in Python is used to record messages about the execution of a program. It allows setting different log levels and outputting logs to various destinations like files, consoles, or external systems.\n",
        "\n",
        "22. What is the os module in Python used for in file handling?\n",
        " - Use of os module in file handling: The os module provides functions for interacting with the operating system, including file and directory management. It allows creating, removing, renaming, and checking file properties.\n",
        "\n",
        "23. What are the challenges associated with memory management in Python?\n",
        " - Challenges in memory management: Challenges include handling reference cycles, avoiding memory leaks, and ensuring that unused objects are efficiently collected. Optimizing memory usage in large or long-running applications also requires careful monitoring.\n",
        "\n",
        "24. How do you raise an exception manually in Python?\n",
        " - Raising exceptions manually: Exceptions in Python can be raised manually using the raise statement followed by the exception type. This is useful for enforcing custom validations or rules during program execution.\n",
        "\n",
        "25. Why is it important to use multithreading in certain applications?\n",
        " - Importance of multithreading: Multithreading improves performance in I/O-bound applications by allowing tasks to run concurrently. It keeps programs responsive and efficiently manages time-consuming operations like file I/O or network requests."
      ],
      "metadata": {
        "id": "NwhKmZ_9ik-j"
      }
    },
    {
      "cell_type": "code",
      "execution_count": null,
      "metadata": {
        "id": "CoVYWbx9iZrx"
      },
      "outputs": [],
      "source": [
        "# 1.  How can you open a file for writing in Python and write a string to it?\n",
        "\n",
        "with open(\"example.txt\", \"w\") as file:\n",
        "    file.write(\"This is a sample string.\")\n"
      ]
    },
    {
      "cell_type": "code",
      "source": [
        "# 2. Write a Python program to read the contents of a file and print each line.\n",
        "\n",
        "with open(\"example.txt\", \"r\") as file:\n",
        "    for line in file:\n",
        "        print(line.strip())\n"
      ],
      "metadata": {
        "id": "iwMk__VNniCw"
      },
      "execution_count": null,
      "outputs": []
    },
    {
      "cell_type": "code",
      "source": [
        "# 3. How would you handle a case where the file doesn't exist while trying to open it for reading?\n",
        "\n",
        "try:\n",
        "    with open(\"example.txt\", \"r\") as file:\n",
        "        for line in file:\n",
        "            print(line.strip())\n",
        "except FileNotFoundError:\n",
        "    print(\"The file does not exist.\")\n"
      ],
      "metadata": {
        "id": "URAfj3-unsi2"
      },
      "execution_count": null,
      "outputs": []
    },
    {
      "cell_type": "code",
      "source": [
        "# 4. Write a Python script that reads from one file and writes its content to another file.\n",
        "\n",
        "with open(\"source.txt\", \"r\") as source_file:\n",
        "    content = source_file.read()\n",
        "\n",
        "with open(\"destination.txt\", \"w\") as destination_file:\n",
        "    destination_file.write(content)\n"
      ],
      "metadata": {
        "id": "Tnerw8Rfn2s3"
      },
      "execution_count": null,
      "outputs": []
    },
    {
      "cell_type": "code",
      "source": [
        "# 5. How would you catch and handle division by zero error in Python?\n",
        "\n",
        "try:\n",
        "    result = 10 / 0\n",
        "except ZeroDivisionError:\n",
        "    print(\"Error: Cannot divide by zero.\")\n"
      ],
      "metadata": {
        "id": "xS-fe6c0oA_i"
      },
      "execution_count": null,
      "outputs": []
    },
    {
      "cell_type": "code",
      "source": [
        "# 6. Write a Python program that logs an error message to a log file when a division by zero exception occurs.\n",
        "\n",
        "import logging\n",
        "\n",
        "# Configure logging\n",
        "logging.basicConfig(filename='error.log', level=logging.ERROR,\n",
        "                    format='%(asctime)s - %(levelname)s - %(message)s')\n",
        "\n",
        "try:\n",
        "    result = 10 / 0\n",
        "except ZeroDivisionError as e:\n",
        "    logging.error(\"Division by zero occurred: %s\", e)\n"
      ],
      "metadata": {
        "id": "-app-tUioMAp"
      },
      "execution_count": null,
      "outputs": []
    },
    {
      "cell_type": "code",
      "source": [
        "# 7.  How do you log information at different levels (INFO, ERROR, WARNING) in Python using the logging module?\n",
        "\n",
        "import logging\n",
        "\n",
        "\n",
        "logging.basicConfig(level=logging.DEBUG, format='%(levelname)s: %(message)s')\n",
        "\n",
        "\n",
        "logging.info(\"This is an informational message.\")\n",
        "logging.warning(\"This is a warning message.\")\n",
        "logging.error(\"This is an error message.\")\n"
      ],
      "metadata": {
        "id": "A1WBQ56IoY1B"
      },
      "execution_count": null,
      "outputs": []
    },
    {
      "cell_type": "code",
      "source": [
        "# 8. Write a program to handle a file opening error using exception handling.\n",
        "\n",
        "try:\n",
        "    with open(\"non_existent_file.txt\", \"r\") as file:\n",
        "        content = file.read()\n",
        "        print(content)\n",
        "except FileNotFoundError:\n",
        "    print(\"Error: The file was not found.\")\n"
      ],
      "metadata": {
        "id": "KkTnThxkouRZ"
      },
      "execution_count": null,
      "outputs": []
    },
    {
      "cell_type": "code",
      "source": [
        "# 9.  How can you read a file line by line and store its content in a list in Python?\n",
        "\n",
        "with open(\"filename.txt\", \"r\") as file:\n",
        "    lines = file.readlines()\n"
      ],
      "metadata": {
        "id": "kzn0HZSlo3-I"
      },
      "execution_count": null,
      "outputs": []
    },
    {
      "cell_type": "code",
      "source": [
        "# 10. How can you append data to an existing file in Python?\n",
        "\n",
        "with open(\"filename.txt\", \"a\") as file:\n",
        "    # Data to append\n",
        "    data_to_append = [\n",
        "        \"This is the first new line.\\n\",\n",
        "        \"Here is another line to add.\\n\",\n",
        "        \"Appending more text to the file.\\n\"\n",
        "    ]\n",
        "\n",
        "    for line in data_to_append:\n",
        "        file.write(line)\n",
        "\n",
        "print(\"Data appended successfully.\")\n"
      ],
      "metadata": {
        "id": "D25ai2GspCHq"
      },
      "execution_count": null,
      "outputs": []
    },
    {
      "cell_type": "code",
      "source": [
        "# 11. Write a Python program that uses a try-except block to handle an error when attempting to access a dictionary key that doesn't exist.\n",
        "\n",
        "my_dict = {'name': 'Shubham', 'age': 25}\n",
        "\n",
        "try:\n",
        "    print(my_dict['address'])\n",
        "except KeyError:\n",
        "    print(\"Error: The key 'address' does not exist in the dictionary.\")\n"
      ],
      "metadata": {
        "id": "mIK9v-ogpWRT"
      },
      "execution_count": null,
      "outputs": []
    },
    {
      "cell_type": "code",
      "source": [
        "# 12. Write a program that demonstrates using multiple except blocks to handle different types of exceptions.\n",
        "\n",
        "try:\n",
        "    num = int(input(\"Enter a number: \"))\n",
        "    result = 10 / num\n",
        "    print(\"Result is:\", result)\n",
        "except ValueError:\n",
        "    print(\"Error: Invalid input. Please enter a valid integer.\")\n",
        "except ZeroDivisionError:\n",
        "    print(\"Error: Division by zero is not allowed.\")\n",
        "except Exception as e:\n",
        "    print(\"An unexpected error occurred:\", e)\n"
      ],
      "metadata": {
        "id": "gR-qNkl4psI0"
      },
      "execution_count": null,
      "outputs": []
    },
    {
      "cell_type": "code",
      "source": [
        "# 13. How would you check if a file exists before attempting to read it in Python?\n",
        "\n",
        "import os\n",
        "\n",
        "file_path = 'example.txt'\n",
        "if os.path.exists(file_path):\n",
        "    with open(file_path, 'r') as file:\n",
        "        content = file.read()\n",
        "        print(content)\n",
        "else:\n",
        "    print(\"File does not exist.\")\n"
      ],
      "metadata": {
        "id": "HxcUu6o7p36_"
      },
      "execution_count": null,
      "outputs": []
    },
    {
      "cell_type": "code",
      "source": [
        "# 14. Write a program that uses the logging module to log both informational and error messages.\n",
        "\n",
        "import logging\n",
        "\n",
        "logging.basicConfig(level=logging.DEBUG,\n",
        "                    format='%(asctime)s - %(levelname)s - %(message)s',\n",
        "                    filename='app.log',\n",
        "                    filemode='w')\n",
        "\n",
        "logging.info(\"This is an informational message.\")\n",
        "\n",
        "logging.error(\"This is an error message.\")\n"
      ],
      "metadata": {
        "id": "uvKd0p52qC_2"
      },
      "execution_count": null,
      "outputs": []
    },
    {
      "cell_type": "code",
      "source": [
        "# 15.  Write a Python program that prints the content of a file and handles the case when the file is empty.\n",
        "\n",
        "filename = \"sample.txt\"\n",
        "\n",
        "try:\n",
        "    with open(filename, 'r') as file:\n",
        "        content = file.read()\n",
        "        if content:\n",
        "            print(content)\n",
        "        else:\n",
        "            print(\"The file is empty.\")\n",
        "except FileNotFoundError:\n",
        "    print(f\"The file '{filename}' does not exist.\")\n"
      ],
      "metadata": {
        "id": "uOO5fCDPqQvS"
      },
      "execution_count": null,
      "outputs": []
    },
    {
      "cell_type": "code",
      "source": [
        "# 16. Demonstrate how to use memory profiling to check the memory usage of a small program.\n",
        "\n",
        "from memory_profiler import profile\n",
        "\n",
        "@profile\n",
        "def my_function():\n",
        "    a = [i for i in range(100000)]\n",
        "    b = [i*i for i in range(100000)]\n",
        "    return a, b\n",
        "\n",
        "if __name__ == '__main__':\n",
        "    my_function()\n"
      ],
      "metadata": {
        "id": "LnvKD0y9qa2H"
      },
      "execution_count": null,
      "outputs": []
    },
    {
      "cell_type": "code",
      "source": [
        "# 17. Write a Python program to create and write a list of numbers to a file, one number per line.\n",
        "\n",
        "numbers = [10, 20, 30, 40, 50]\n",
        "\n",
        "with open('numbers.txt', 'w') as file:\n",
        "    for number in numbers:\n",
        "        file.write(str(number) + '\\n')\n"
      ],
      "metadata": {
        "id": "5kgi6THEqzjl"
      },
      "execution_count": null,
      "outputs": []
    },
    {
      "cell_type": "code",
      "source": [
        "# 18. How would you implement a basic logging setup that logs to a file with rotation after 1MB?\n",
        "\n",
        "import logging\n",
        "from logging.handlers import RotatingFileHandler\n",
        "\n",
        "logger = logging.getLogger('my_logger')\n",
        "logger.setLevel(logging.DEBUG)\n",
        "\n",
        "handler = RotatingFileHandler('app.log', maxBytes=1_000_000, backupCount=3)\n",
        "handler.setLevel(logging.DEBUG)\n",
        "\n",
        "formatter = logging.Formatter('%(asctime)s - %(levelname)s - %(message)s')\n",
        "handler.setFormatter(formatter)\n",
        "\n",
        "logger.addHandler(handler)\n",
        "\n",
        "logger.info('This is an info message')\n",
        "logger.error('This is an error message')\n"
      ],
      "metadata": {
        "id": "Ux8S1jdUrBle"
      },
      "execution_count": null,
      "outputs": []
    },
    {
      "cell_type": "code",
      "source": [
        "# 19. Write a program that handles both IndexError and KeyError using a try-except block.\n",
        "\n",
        "try:\n",
        "    my_list = [1, 2, 3]\n",
        "    my_dict = {'a': 10, 'b': 20}\n",
        "\n",
        "    print(my_list[5])\n",
        "\n",
        "    print(my_dict['c'])\n",
        "\n",
        "except IndexError:\n",
        "    print(\"Caught an IndexError: List index out of range.\")\n",
        "\n",
        "except KeyError:\n",
        "    print(\"Caught a KeyError: Key not found in dictionary.\")\n"
      ],
      "metadata": {
        "id": "FVcXVuk8rV8c"
      },
      "execution_count": null,
      "outputs": []
    },
    {
      "cell_type": "code",
      "source": [
        "# 20. How would you open a file and read its contents using a context manager in Python?\n",
        "\n",
        "with open('filename.txt', 'r') as file:\n",
        "    contents = file.read()\n",
        "    print(contents)\n"
      ],
      "metadata": {
        "id": "lKAZGoDRrjaR"
      },
      "execution_count": null,
      "outputs": []
    },
    {
      "cell_type": "code",
      "source": [
        "# 21. Write a Python program that reads a file and prints the number of occurrences of a specific word.\n",
        "\n",
        "def count_word_occurrences(filename, word):\n",
        "    count = 0\n",
        "    with open(filename, 'r') as file:\n",
        "        for line in file:\n",
        "            words = line.lower().split()\n",
        "            count += words.count(word.lower())\n",
        "    print(f\"The word '{word}' occurs {count} times in the file.\")\n",
        "\n",
        "count_word_occurrences('example.txt', 'python')\n"
      ],
      "metadata": {
        "id": "Me5GFxgCrvCS"
      },
      "execution_count": null,
      "outputs": []
    },
    {
      "cell_type": "code",
      "source": [
        "# 22.  How can you check if a file is empty before attempting to read its contents?\n",
        "\n",
        "import os\n",
        "\n",
        "file_path = 'filename.txt'\n",
        "\n",
        "if os.path.exists(file_path) and os.path.getsize(file_path) > 0:\n",
        "    with open(file_path, 'r') as file:\n",
        "        content = file.read()\n",
        "        print(content)\n",
        "else:\n",
        "    print(\"File is empty or does not exist.\")\n"
      ],
      "metadata": {
        "id": "pHLMJT39r5vH"
      },
      "execution_count": null,
      "outputs": []
    },
    {
      "cell_type": "code",
      "source": [
        "# 23.  Write a Python program that writes to a log file when an error occurs during file handling.\n",
        "\n",
        "import logging\n",
        "\n",
        "logging.basicConfig(filename='file_errors.log', level=logging.ERROR,\n",
        "                    format='%(asctime)s - %(levelname)s - %(message)s')\n",
        "\n",
        "try:\n",
        "    with open('somefile.txt', 'r') as file:\n",
        "        content = file.read()\n",
        "except Exception as e:\n",
        "    logging.error(f\"Error occurred while handling the file: {e}\")\n"
      ],
      "metadata": {
        "id": "AR4c_ipKsOQH"
      },
      "execution_count": null,
      "outputs": []
    }
  ]
}